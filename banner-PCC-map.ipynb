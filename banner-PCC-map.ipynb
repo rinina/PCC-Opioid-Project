{
 "metadata": {
  "name": "",
  "signature": "sha256:cdd8185f79f6a2fd1d2432a308b6f46329b52848fce947f7b2c911ca35b5f7ed"
 },
 "nbformat": 3,
 "nbformat_minor": 0,
 "worksheets": [
  {
   "cells": [
    {
     "cell_type": "heading",
     "level": 1,
     "metadata": {},
     "source": [
      "0. Setup"
     ]
    },
    {
     "cell_type": "code",
     "collapsed": false,
     "input": [
      "import numpy as np\n",
      "import pandas as pd\n",
      "import re\n",
      "import datetime\n",
      "import geopandas as gpd"
     ],
     "language": "python",
     "metadata": {},
     "outputs": [],
     "prompt_number": 1
    },
    {
     "cell_type": "code",
     "collapsed": false,
     "input": [
      "%pylab inline"
     ],
     "language": "python",
     "metadata": {},
     "outputs": [
      {
       "output_type": "stream",
       "stream": "stdout",
       "text": [
        "Populating the interactive namespace from numpy and matplotlib\n"
       ]
      }
     ],
     "prompt_number": 2
    },
    {
     "cell_type": "code",
     "collapsed": false,
     "input": [
      "allyears = pd.read_csv('https://dl.dropboxusercontent.com/u/39570370/allyears.csv')\n",
      "searchcodes = pd.read_csv('https://raw.githubusercontent.com/rinina/PCC-Opioid-Project/master/data/searchcodes.csv', dtype=str)"
     ],
     "language": "python",
     "metadata": {},
     "outputs": [],
     "prompt_number": 3
    },
    {
     "cell_type": "code",
     "collapsed": false,
     "input": [
      "allyears = allyears.dropna(subset=['Substance'])\n",
      "allyears = allyears[allyears['Medical Outcome'] != 'Confirmed nonexposure']\n",
      "allyears['Start Date'] = pd.to_datetime(allyears['Start Date'])\n",
      "allyears = allyears[allyears['Caller Site'] == 'Own residence']"
     ],
     "language": "python",
     "metadata": {},
     "outputs": [],
     "prompt_number": 4
    },
    {
     "cell_type": "code",
     "collapsed": false,
     "input": [
      "matched = allyears[allyears['Substance'].str.contains('|'.join(searchcodes['Code number'].values))]"
     ],
     "language": "python",
     "metadata": {},
     "outputs": [],
     "prompt_number": 5
    },
    {
     "cell_type": "heading",
     "level": 1,
     "metadata": {},
     "source": [
      "1. Mapping"
     ]
    },
    {
     "cell_type": "heading",
     "level": 4,
     "metadata": {},
     "source": [
      "Load Arizona zipcode shapefile"
     ]
    },
    {
     "cell_type": "code",
     "collapsed": false,
     "input": [
      "zipshp = gpd.read_file('./data/tl_2010_04_zcta500.shp')"
     ],
     "language": "python",
     "metadata": {},
     "outputs": [],
     "prompt_number": 6
    },
    {
     "cell_type": "heading",
     "level": 4,
     "metadata": {},
     "source": [
      "Load zipcode populations (2010 census)"
     ]
    },
    {
     "cell_type": "code",
     "collapsed": false,
     "input": [
      "population = pd.read_csv('https://raw.githubusercontent.com/rinina/PCC-Opioid-Project/master/data/zipcode_pop.txt', sep='\\t')"
     ],
     "language": "python",
     "metadata": {},
     "outputs": [],
     "prompt_number": 7
    },
    {
     "cell_type": "heading",
     "level": 4,
     "metadata": {},
     "source": [
      "Extract zipcodes and population from population file"
     ]
    },
    {
     "cell_type": "code",
     "collapsed": false,
     "input": [
      "population['ZIPCODE'] = population['Geo_NAME'].str.extract('(\\d\\d\\d\\d\\d)')"
     ],
     "language": "python",
     "metadata": {},
     "outputs": [],
     "prompt_number": 8
    },
    {
     "cell_type": "code",
     "collapsed": false,
     "input": [
      "pop_only = population.groupby('ZIPCODE').sum().rename(columns={'SE_T001_001':'pop'})['pop']"
     ],
     "language": "python",
     "metadata": {},
     "outputs": [],
     "prompt_number": 9
    },
    {
     "cell_type": "heading",
     "level": 4,
     "metadata": {},
     "source": [
      "Merge all files"
     ]
    },
    {
     "cell_type": "code",
     "collapsed": false,
     "input": [
      "zipshp = zipshp.merge(pd.DataFrame(pop_only), left_on='ZCTA5CE00', right_index=True)"
     ],
     "language": "python",
     "metadata": {},
     "outputs": [],
     "prompt_number": 10
    },
    {
     "cell_type": "code",
     "collapsed": false,
     "input": [
      "zipcounts = matched.groupby('ZIP Code 5').size()\n",
      "zipcounts.index = pd.Series(zipcounts.index).astype(int).astype(str)\n",
      "zipcounts = zipcounts.reset_index()\n",
      "\n",
      "counts = zipshp.merge(zipcounts, left_on='ZCTA5CE00', right_on='ZIP Code 5').rename(columns={0:'pcc_count'})"
     ],
     "language": "python",
     "metadata": {},
     "outputs": [],
     "prompt_number": 11
    },
    {
     "cell_type": "heading",
     "level": 4,
     "metadata": {},
     "source": [
      "Compute opioid calls per 100,000 people"
     ]
    },
    {
     "cell_type": "code",
     "collapsed": false,
     "input": [
      "counts['calls_100k'] = 100000*counts['pcc_count']/counts['pop']"
     ],
     "language": "python",
     "metadata": {},
     "outputs": [],
     "prompt_number": 12
    },
    {
     "cell_type": "code",
     "collapsed": false,
     "input": [
      "counts.plot(column='pop', scheme='QUANTILES', k=3, colormap='OrRd')"
     ],
     "language": "python",
     "metadata": {},
     "outputs": [
      {
       "metadata": {},
       "output_type": "pyout",
       "prompt_number": 13,
       "text": [
        "<matplotlib.axes._subplots.AxesSubplot at 0x7fa58e9c7950>"
       ]
      },
      {
       "metadata": {},
       "output_type": "display_data",
       "png": "[encoded data removed]",
       "text": [
        "<matplotlib.figure.Figure at 0x7fa58e9c7590>"
       ]
      }
     ],
     "prompt_number": 13
    },
    {
     "cell_type": "code",
     "collapsed": false,
     "input": [
      "counts[counts['calls_100k'] > 115][['ZIP Code 5', 'calls_100k']]"
     ],
     "language": "python",
     "metadata": {},
     "outputs": [
      {
       "html": [
        "<div style=\"max-height:1000px;max-width:1500px;overflow:auto;\">\n",
        "<table border=\"1\" class=\"dataframe\">\n",
        "  <thead>\n",
        "    <tr style=\"text-align: right;\">\n",
        "      <th></th>\n",
        "      <th>ZIP Code 5</th>\n",
        "      <th>calls_100k</th>\n",
        "    </tr>\n",
        "  </thead>\n",
        "  <tbody>\n",
        "    <tr>\n",
        "      <th>7</th>\n",
        "      <td>85053</td>\n",
        "      <td>126.404494</td>\n",
        "    </tr>\n",
        "    <tr>\n",
        "      <th>30</th>\n",
        "      <td>85306</td>\n",
        "      <td>177.752057</td>\n",
        "    </tr>\n",
        "    <tr>\n",
        "      <th>54</th>\n",
        "      <td>85016</td>\n",
        "      <td>153.410432</td>\n",
        "    </tr>\n",
        "    <tr>\n",
        "      <th>58</th>\n",
        "      <td>85264</td>\n",
        "      <td>160.128102</td>\n",
        "    </tr>\n",
        "    <tr>\n",
        "      <th>69</th>\n",
        "      <td>85006</td>\n",
        "      <td>135.964572</td>\n",
        "    </tr>\n",
        "    <tr>\n",
        "      <th>144</th>\n",
        "      <td>85324</td>\n",
        "      <td>173.250173</td>\n",
        "    </tr>\n",
        "    <tr>\n",
        "      <th>145</th>\n",
        "      <td>86024</td>\n",
        "      <td>142.247511</td>\n",
        "    </tr>\n",
        "    <tr>\n",
        "      <th>148</th>\n",
        "      <td>85201</td>\n",
        "      <td>134.513582</td>\n",
        "    </tr>\n",
        "  </tbody>\n",
        "</table>\n",
        "</div>"
       ],
       "metadata": {},
       "output_type": "pyout",
       "prompt_number": 14,
       "text": [
        "    ZIP Code 5  calls_100k\n",
        "7        85053  126.404494\n",
        "30       85306  177.752057\n",
        "54       85016  153.410432\n",
        "58       85264  160.128102\n",
        "69       85006  135.964572\n",
        "144      85324  173.250173\n",
        "145      86024  142.247511\n",
        "148      85201  134.513582"
       ]
      }
     ],
     "prompt_number": 14
    },
    {
     "cell_type": "heading",
     "level": 4,
     "metadata": {},
     "source": [
      "Write shapefile"
     ]
    },
    {
     "cell_type": "code",
     "collapsed": false,
     "input": [
      "counts.to_file('PCC-calls-per-100k.shp')"
     ],
     "language": "python",
     "metadata": {},
     "outputs": [],
     "prompt_number": 15
    }
   ],
   "metadata": {}
  }
 ]
}
